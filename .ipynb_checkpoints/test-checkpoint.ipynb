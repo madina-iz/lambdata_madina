{
 "cells": [
  {
   "cell_type": "code",
   "execution_count": 10,
   "id": "6552ac17",
   "metadata": {},
   "outputs": [],
   "source": [
    "import pandas as pd\n",
    "import numpy as np\n",
    "# import lambdata_madina\n",
    "\n",
    "from helper_functions import null_count, split"
   ]
  },
  {
   "cell_type": "code",
   "execution_count": 2,
   "id": "3ef3455c",
   "metadata": {},
   "outputs": [],
   "source": [
    "# from sklearn.model_selection import train_test_split"
   ]
  },
  {
   "cell_type": "code",
   "execution_count": 11,
   "id": "1c277522",
   "metadata": {},
   "outputs": [],
   "source": [
    "data = pd.DataFrame({'col1': [np.nan, 2, 3, 4, 5, 6, 7, 8, 9, 10],\n",
    "                    'col2': [11, 12, np.nan, np.nan, 15, 16, 17, 18, 19, 20],\n",
    "                    'col3': [21, 22, 23, 24, 25, 26, np.nan, 28, 29, 30]}\n",
    "                   )"
   ]
  },
  {
   "cell_type": "code",
   "execution_count": 12,
   "id": "ead8663b",
   "metadata": {},
   "outputs": [
    {
     "data": {
      "text/plain": [
       "4"
      ]
     },
     "execution_count": 12,
     "metadata": {},
     "output_type": "execute_result"
    }
   ],
   "source": [
    "null_count(data)"
   ]
  },
  {
   "cell_type": "code",
   "execution_count": 16,
   "id": "04d620bb",
   "metadata": {},
   "outputs": [
    {
     "data": {
      "text/plain": [
       "[   col1  col2  col3\n",
       " 3   4.0   NaN  24.0\n",
       " 0   NaN  11.0  21.0\n",
       " 1   2.0  12.0  22.0\n",
       " 2   3.0   NaN  23.0\n",
       " 7   8.0  18.0  28.0\n",
       " 9  10.0  20.0  30.0\n",
       " 4   5.0  15.0  25.0\n",
       " 6   7.0  17.0   NaN,\n",
       "    col1  col2  col3\n",
       " 5   6.0  16.0  26.0\n",
       " 8   9.0  19.0  29.0]"
      ]
     },
     "execution_count": 16,
     "metadata": {},
     "output_type": "execute_result"
    }
   ],
   "source": [
    "split(data, 0.2)"
   ]
  }
 ],
 "metadata": {
  "kernelspec": {
   "display_name": "Python 3",
   "language": "python",
   "name": "python3"
  },
  "language_info": {
   "codemirror_mode": {
    "name": "ipython",
    "version": 3
   },
   "file_extension": ".py",
   "mimetype": "text/x-python",
   "name": "python",
   "nbconvert_exporter": "python",
   "pygments_lexer": "ipython3",
   "version": "3.8.8"
  }
 },
 "nbformat": 4,
 "nbformat_minor": 5
}
